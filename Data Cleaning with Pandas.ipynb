{
 "cells": [
  {
   "cell_type": "markdown",
   "metadata": {},
   "source": [
    "<center><h1>Data Cleaning with Pandas</h1><center>"
   ]
  },
  {
   "cell_type": "code",
   "execution_count": 1,
   "metadata": {},
   "outputs": [],
   "source": [
    "import pandas as pd"
   ]
  },
  {
   "cell_type": "markdown",
   "metadata": {},
   "source": [
    "## Dealing with multiple files"
   ]
  },
  {
   "cell_type": "markdown",
   "metadata": {},
   "source": [
    "We can combine the use of `glob`, a Python library for working with files, with pandas to organize multiple datasets better. `glob` can open multiple files by using regex matching to get the filenames:\n",
    "```python\n",
    "import glob\n",
    "\n",
    "files = glob.glob(\"file*.csv\") #all files starting with \"file\"\n",
    "\n",
    "df_list = []\n",
    "for filename in files:\n",
    "    data = pd.read_csv(filename)\n",
    "    df_list.append(data)\n",
    "\n",
    "df = pd.concat(df_list)\n",
    "\n",
    "print(files)\n",
    "```"
   ]
  },
  {
   "cell_type": "code",
   "execution_count": 2,
   "metadata": {},
   "outputs": [
    {
     "data": {
      "text/html": [
       "<div>\n",
       "<style scoped>\n",
       "    .dataframe tbody tr th:only-of-type {\n",
       "        vertical-align: middle;\n",
       "    }\n",
       "\n",
       "    .dataframe tbody tr th {\n",
       "        vertical-align: top;\n",
       "    }\n",
       "\n",
       "    .dataframe thead th {\n",
       "        text-align: right;\n",
       "    }\n",
       "</style>\n",
       "<table border=\"1\" class=\"dataframe\">\n",
       "  <thead>\n",
       "    <tr style=\"text-align: right;\">\n",
       "      <th></th>\n",
       "      <th>id</th>\n",
       "      <th>full_name</th>\n",
       "      <th>gender_age</th>\n",
       "      <th>fractions</th>\n",
       "      <th>probability</th>\n",
       "      <th>grade</th>\n",
       "    </tr>\n",
       "  </thead>\n",
       "  <tbody>\n",
       "    <tr>\n",
       "      <th>0</th>\n",
       "      <td>0</td>\n",
       "      <td>Barrett Feragh</td>\n",
       "      <td>M14</td>\n",
       "      <td>76%</td>\n",
       "      <td>72%</td>\n",
       "      <td>9th grade</td>\n",
       "    </tr>\n",
       "    <tr>\n",
       "      <th>1</th>\n",
       "      <td>1</td>\n",
       "      <td>Llewellyn Keech</td>\n",
       "      <td>M14</td>\n",
       "      <td>83%</td>\n",
       "      <td>NaN</td>\n",
       "      <td>12th grade</td>\n",
       "    </tr>\n",
       "    <tr>\n",
       "      <th>2</th>\n",
       "      <td>2</td>\n",
       "      <td>Llewellyn Keech</td>\n",
       "      <td>M14</td>\n",
       "      <td>83%</td>\n",
       "      <td>NaN</td>\n",
       "      <td>12th grade</td>\n",
       "    </tr>\n",
       "    <tr>\n",
       "      <th>3</th>\n",
       "      <td>3</td>\n",
       "      <td>Terrell Geri</td>\n",
       "      <td>M15</td>\n",
       "      <td>80%</td>\n",
       "      <td>86%</td>\n",
       "      <td>11th grade</td>\n",
       "    </tr>\n",
       "    <tr>\n",
       "      <th>4</th>\n",
       "      <td>4</td>\n",
       "      <td>Gram Hallewell</td>\n",
       "      <td>M14</td>\n",
       "      <td>67%</td>\n",
       "      <td>78%</td>\n",
       "      <td>10th grade</td>\n",
       "    </tr>\n",
       "    <tr>\n",
       "      <th>...</th>\n",
       "      <td>...</td>\n",
       "      <td>...</td>\n",
       "      <td>...</td>\n",
       "      <td>...</td>\n",
       "      <td>...</td>\n",
       "      <td>...</td>\n",
       "    </tr>\n",
       "    <tr>\n",
       "      <th>95</th>\n",
       "      <td>95</td>\n",
       "      <td>Maxi Dew</td>\n",
       "      <td>F16</td>\n",
       "      <td>77%</td>\n",
       "      <td>71%</td>\n",
       "      <td>10th grade</td>\n",
       "    </tr>\n",
       "    <tr>\n",
       "      <th>96</th>\n",
       "      <td>96</td>\n",
       "      <td>Jewell Boas</td>\n",
       "      <td>F15</td>\n",
       "      <td>57%</td>\n",
       "      <td>90%</td>\n",
       "      <td>12th grade</td>\n",
       "    </tr>\n",
       "    <tr>\n",
       "      <th>97</th>\n",
       "      <td>97</td>\n",
       "      <td>Lebbie Twine</td>\n",
       "      <td>F17</td>\n",
       "      <td>72%</td>\n",
       "      <td>91%</td>\n",
       "      <td>12th grade</td>\n",
       "    </tr>\n",
       "    <tr>\n",
       "      <th>98</th>\n",
       "      <td>98</td>\n",
       "      <td>Garek Culbert</td>\n",
       "      <td>M14</td>\n",
       "      <td>64%</td>\n",
       "      <td>NaN</td>\n",
       "      <td>11th grade</td>\n",
       "    </tr>\n",
       "    <tr>\n",
       "      <th>99</th>\n",
       "      <td>99</td>\n",
       "      <td>Cristine Warboys</td>\n",
       "      <td>F16</td>\n",
       "      <td>74%</td>\n",
       "      <td>74%</td>\n",
       "      <td>12th grade</td>\n",
       "    </tr>\n",
       "  </tbody>\n",
       "</table>\n",
       "<p>1000 rows × 6 columns</p>\n",
       "</div>"
      ],
      "text/plain": [
       "    id         full_name gender_age fractions probability       grade\n",
       "0    0    Barrett Feragh        M14       76%         72%   9th grade\n",
       "1    1   Llewellyn Keech        M14       83%         NaN  12th grade\n",
       "2    2   Llewellyn Keech        M14       83%         NaN  12th grade\n",
       "3    3      Terrell Geri        M15       80%         86%  11th grade\n",
       "4    4    Gram Hallewell        M14       67%         78%  10th grade\n",
       "..  ..               ...        ...       ...         ...         ...\n",
       "95  95          Maxi Dew        F16       77%         71%  10th grade\n",
       "96  96       Jewell Boas        F15       57%         90%  12th grade\n",
       "97  97      Lebbie Twine        F17       72%         91%  12th grade\n",
       "98  98     Garek Culbert        M14       64%         NaN  11th grade\n",
       "99  99  Cristine Warboys        F16       74%         74%  12th grade\n",
       "\n",
       "[1000 rows x 6 columns]"
      ]
     },
     "metadata": {},
     "output_type": "display_data"
    }
   ],
   "source": [
    "import glob\n",
    "\n",
    "student_files = glob.glob('exams\\exams[0-9].csv') #each csv has 100 rows (students)\n",
    "df_list = []\n",
    "\n",
    "for files in student_files:\n",
    "    data = pd.read_csv(files)\n",
    "    df_list.append(data)\n",
    "    \n",
    "students = pd.concat(df_list)\n",
    "display(students)"
   ]
  },
  {
   "cell_type": "markdown",
   "metadata": {},
   "source": [
    "## Reshaping the data"
   ]
  },
  {
   "cell_type": "code",
   "execution_count": 3,
   "metadata": {},
   "outputs": [
    {
     "data": {
      "text/html": [
       "<div>\n",
       "<style scoped>\n",
       "    .dataframe tbody tr th:only-of-type {\n",
       "        vertical-align: middle;\n",
       "    }\n",
       "\n",
       "    .dataframe tbody tr th {\n",
       "        vertical-align: top;\n",
       "    }\n",
       "\n",
       "    .dataframe thead th {\n",
       "        text-align: right;\n",
       "    }\n",
       "</style>\n",
       "<table border=\"1\" class=\"dataframe\">\n",
       "  <thead>\n",
       "    <tr style=\"text-align: right;\">\n",
       "      <th></th>\n",
       "      <th>full_name</th>\n",
       "      <th>gender_age</th>\n",
       "      <th>fractions</th>\n",
       "      <th>probability</th>\n",
       "      <th>grade</th>\n",
       "    </tr>\n",
       "  </thead>\n",
       "  <tbody>\n",
       "    <tr>\n",
       "      <th>0</th>\n",
       "      <td>Moses Kirckman</td>\n",
       "      <td>M14</td>\n",
       "      <td>69%</td>\n",
       "      <td>89%</td>\n",
       "      <td>11th grade</td>\n",
       "    </tr>\n",
       "    <tr>\n",
       "      <th>1</th>\n",
       "      <td>Timofei Strowan</td>\n",
       "      <td>M18</td>\n",
       "      <td>63%</td>\n",
       "      <td>76%</td>\n",
       "      <td>11th grade</td>\n",
       "    </tr>\n",
       "    <tr>\n",
       "      <th>2</th>\n",
       "      <td>Silvain Poll</td>\n",
       "      <td>M18</td>\n",
       "      <td>69%</td>\n",
       "      <td>77%</td>\n",
       "      <td>9th grade</td>\n",
       "    </tr>\n",
       "    <tr>\n",
       "      <th>3</th>\n",
       "      <td>Lezley Pinxton</td>\n",
       "      <td>M18</td>\n",
       "      <td>NaN</td>\n",
       "      <td>72%</td>\n",
       "      <td>11th grade</td>\n",
       "    </tr>\n",
       "    <tr>\n",
       "      <th>4</th>\n",
       "      <td>Bernadene Saunper</td>\n",
       "      <td>F17</td>\n",
       "      <td>72%</td>\n",
       "      <td>84%</td>\n",
       "      <td>11th grade</td>\n",
       "    </tr>\n",
       "  </tbody>\n",
       "</table>\n",
       "</div>"
      ],
      "text/plain": [
       "           full_name gender_age fractions probability       grade\n",
       "0     Moses Kirckman        M14       69%         89%  11th grade\n",
       "1    Timofei Strowan        M18       63%         76%  11th grade\n",
       "2       Silvain Poll        M18       69%         77%   9th grade\n",
       "3     Lezley Pinxton        M18       NaN         72%  11th grade\n",
       "4  Bernadene Saunper        F17       72%         84%  11th grade"
      ]
     },
     "execution_count": 3,
     "metadata": {},
     "output_type": "execute_result"
    }
   ],
   "source": [
    "import sys\n",
    "sys.path.insert(1, \"C:\\\\Users\\\\USER\\\\FOLDA\\\\Data Cleaning\\\\exams\")\n",
    "from students import students\n",
    "students.head()"
   ]
  },
  {
   "cell_type": "markdown",
   "metadata": {},
   "source": [
    "Remember, in order to achieve data \"tidiness\" we want:\n",
    "* Each variable as a separate column\n",
    "* Each row as a separate observation\n",
    "\n",
    "We can use `pd.melt()` to do this transformation. `.melt()` takes in a DataFrame, and the columns to unpack:"
   ]
  },
  {
   "cell_type": "code",
   "execution_count": 4,
   "metadata": {},
   "outputs": [
    {
     "name": "stdout",
     "output_type": "stream",
     "text": [
      "Index(['full_name', 'gender_age', 'fractions', 'probability', 'grade'], dtype='object')\n"
     ]
    }
   ],
   "source": [
    "#First, let's look at the columns:\n",
    "print(students.columns)"
   ]
  },
  {
   "cell_type": "markdown",
   "metadata": {},
   "source": [
    "The parameters provided are:\n",
    "* `frame`: the DataFrame you want to `melt`\n",
    "* `id_vars`: the column(s) of the old DataFrame to preserve\n",
    "* `value_vars`: the column(s) of the old DataFrame that you want to turn into variables\n",
    "* `value_name`: what to call the column of the new DataFrame that stores the values\n",
    "* `var_name`: what to call the column of the new DataFrame that stores the variables"
   ]
  },
  {
   "cell_type": "code",
   "execution_count": 5,
   "metadata": {},
   "outputs": [
    {
     "data": {
      "text/html": [
       "<div>\n",
       "<style scoped>\n",
       "    .dataframe tbody tr th:only-of-type {\n",
       "        vertical-align: middle;\n",
       "    }\n",
       "\n",
       "    .dataframe tbody tr th {\n",
       "        vertical-align: top;\n",
       "    }\n",
       "\n",
       "    .dataframe thead th {\n",
       "        text-align: right;\n",
       "    }\n",
       "</style>\n",
       "<table border=\"1\" class=\"dataframe\">\n",
       "  <thead>\n",
       "    <tr style=\"text-align: right;\">\n",
       "      <th></th>\n",
       "      <th>full_name</th>\n",
       "      <th>gender_age</th>\n",
       "      <th>grade</th>\n",
       "      <th>exam</th>\n",
       "      <th>score</th>\n",
       "    </tr>\n",
       "  </thead>\n",
       "  <tbody>\n",
       "    <tr>\n",
       "      <th>0</th>\n",
       "      <td>Moses Kirckman</td>\n",
       "      <td>M14</td>\n",
       "      <td>11th grade</td>\n",
       "      <td>fractions</td>\n",
       "      <td>69%</td>\n",
       "    </tr>\n",
       "    <tr>\n",
       "      <th>1</th>\n",
       "      <td>Timofei Strowan</td>\n",
       "      <td>M18</td>\n",
       "      <td>11th grade</td>\n",
       "      <td>fractions</td>\n",
       "      <td>63%</td>\n",
       "    </tr>\n",
       "    <tr>\n",
       "      <th>2</th>\n",
       "      <td>Silvain Poll</td>\n",
       "      <td>M18</td>\n",
       "      <td>9th grade</td>\n",
       "      <td>fractions</td>\n",
       "      <td>69%</td>\n",
       "    </tr>\n",
       "    <tr>\n",
       "      <th>3</th>\n",
       "      <td>Lezley Pinxton</td>\n",
       "      <td>M18</td>\n",
       "      <td>11th grade</td>\n",
       "      <td>fractions</td>\n",
       "      <td>NaN</td>\n",
       "    </tr>\n",
       "    <tr>\n",
       "      <th>4</th>\n",
       "      <td>Bernadene Saunper</td>\n",
       "      <td>F17</td>\n",
       "      <td>11th grade</td>\n",
       "      <td>fractions</td>\n",
       "      <td>72%</td>\n",
       "    </tr>\n",
       "  </tbody>\n",
       "</table>\n",
       "</div>"
      ],
      "text/plain": [
       "           full_name gender_age       grade       exam score\n",
       "0     Moses Kirckman        M14  11th grade  fractions   69%\n",
       "1    Timofei Strowan        M18  11th grade  fractions   63%\n",
       "2       Silvain Poll        M18   9th grade  fractions   69%\n",
       "3     Lezley Pinxton        M18  11th grade  fractions   NaN\n",
       "4  Bernadene Saunper        F17  11th grade  fractions   72%"
      ]
     },
     "metadata": {},
     "output_type": "display_data"
    }
   ],
   "source": [
    "students = pd.melt(frame=students, id_vars=['full_name', 'gender_age', 'grade'],\n",
    "                   value_vars=['fractions', 'probability'],\n",
    "                   value_name='score',\n",
    "                   var_name='exam')\n",
    "\n",
    "display(students.head())"
   ]
  },
  {
   "cell_type": "code",
   "execution_count": 6,
   "metadata": {},
   "outputs": [
    {
     "name": "stdout",
     "output_type": "stream",
     "text": [
      "probability    1000\n",
      "fractions      1000\n",
      "Name: exam, dtype: int64\n"
     ]
    }
   ],
   "source": [
    "print(students.exam.value_counts())"
   ]
  },
  {
   "cell_type": "markdown",
   "metadata": {},
   "source": [
    "## Dealing with duplicates"
   ]
  },
  {
   "cell_type": "code",
   "execution_count": 7,
   "metadata": {},
   "outputs": [
    {
     "name": "stdout",
     "output_type": "stream",
     "text": [
      "0       False\n",
      "1       False\n",
      "2       False\n",
      "3       False\n",
      "4       False\n",
      "        ...  \n",
      "1995    False\n",
      "1996    False\n",
      "1997    False\n",
      "1998    False\n",
      "1999    False\n",
      "Length: 2000, dtype: bool\n"
     ]
    }
   ],
   "source": [
    "duplicates = students.duplicated()\n",
    "print(duplicates)"
   ]
  },
  {
   "cell_type": "code",
   "execution_count": 8,
   "metadata": {},
   "outputs": [
    {
     "name": "stdout",
     "output_type": "stream",
     "text": [
      "False    1976\n",
      "True       24\n",
      "dtype: int64\n"
     ]
    }
   ],
   "source": [
    "print(duplicates.value_counts())"
   ]
  },
  {
   "cell_type": "code",
   "execution_count": 9,
   "metadata": {},
   "outputs": [],
   "source": [
    "#updating students DataFrame with duplicates removed\n",
    "students = students.drop_duplicates() #without arguments, drop_duplicates() will only drop perfectly matching duplicate rows"
   ]
  },
  {
   "cell_type": "code",
   "execution_count": 10,
   "metadata": {},
   "outputs": [
    {
     "name": "stdout",
     "output_type": "stream",
     "text": [
      "False    1976\n",
      "dtype: int64\n"
     ]
    }
   ],
   "source": [
    "#verifying no duplicates left:\n",
    "duplicates = students.duplicated()\n",
    "print(duplicates.value_counts())"
   ]
  },
  {
   "cell_type": "markdown",
   "metadata": {},
   "source": [
    "We can also remove rows with duplicate values in specific columns, think:\n",
    "```python\n",
    "fruits = fruits.drop_duplicates(subset=['item'])\n",
    "```\n",
    "in case we have a two of the same fruits (`items`) but with different `price` say."
   ]
  },
  {
   "cell_type": "markdown",
   "metadata": {},
   "source": [
    "## Splitting by Index"
   ]
  },
  {
   "cell_type": "code",
   "execution_count": 11,
   "metadata": {},
   "outputs": [
    {
     "data": {
      "text/html": [
       "<div>\n",
       "<style scoped>\n",
       "    .dataframe tbody tr th:only-of-type {\n",
       "        vertical-align: middle;\n",
       "    }\n",
       "\n",
       "    .dataframe tbody tr th {\n",
       "        vertical-align: top;\n",
       "    }\n",
       "\n",
       "    .dataframe thead th {\n",
       "        text-align: right;\n",
       "    }\n",
       "</style>\n",
       "<table border=\"1\" class=\"dataframe\">\n",
       "  <thead>\n",
       "    <tr style=\"text-align: right;\">\n",
       "      <th></th>\n",
       "      <th>full_name</th>\n",
       "      <th>gender_age</th>\n",
       "      <th>grade</th>\n",
       "      <th>exam</th>\n",
       "      <th>score</th>\n",
       "    </tr>\n",
       "  </thead>\n",
       "  <tbody>\n",
       "    <tr>\n",
       "      <th>0</th>\n",
       "      <td>Moses Kirckman</td>\n",
       "      <td>M14</td>\n",
       "      <td>11th grade</td>\n",
       "      <td>fractions</td>\n",
       "      <td>69%</td>\n",
       "    </tr>\n",
       "    <tr>\n",
       "      <th>1</th>\n",
       "      <td>Timofei Strowan</td>\n",
       "      <td>M18</td>\n",
       "      <td>11th grade</td>\n",
       "      <td>fractions</td>\n",
       "      <td>63%</td>\n",
       "    </tr>\n",
       "    <tr>\n",
       "      <th>2</th>\n",
       "      <td>Silvain Poll</td>\n",
       "      <td>M18</td>\n",
       "      <td>9th grade</td>\n",
       "      <td>fractions</td>\n",
       "      <td>69%</td>\n",
       "    </tr>\n",
       "    <tr>\n",
       "      <th>3</th>\n",
       "      <td>Lezley Pinxton</td>\n",
       "      <td>M18</td>\n",
       "      <td>11th grade</td>\n",
       "      <td>fractions</td>\n",
       "      <td>NaN</td>\n",
       "    </tr>\n",
       "    <tr>\n",
       "      <th>4</th>\n",
       "      <td>Bernadene Saunper</td>\n",
       "      <td>F17</td>\n",
       "      <td>11th grade</td>\n",
       "      <td>fractions</td>\n",
       "      <td>72%</td>\n",
       "    </tr>\n",
       "  </tbody>\n",
       "</table>\n",
       "</div>"
      ],
      "text/plain": [
       "           full_name gender_age       grade       exam score\n",
       "0     Moses Kirckman        M14  11th grade  fractions   69%\n",
       "1    Timofei Strowan        M18  11th grade  fractions   63%\n",
       "2       Silvain Poll        M18   9th grade  fractions   69%\n",
       "3     Lezley Pinxton        M18  11th grade  fractions   NaN\n",
       "4  Bernadene Saunper        F17  11th grade  fractions   72%"
      ]
     },
     "execution_count": 11,
     "metadata": {},
     "output_type": "execute_result"
    }
   ],
   "source": [
    "students.head() #We want two separate columns for gender and age."
   ]
  },
  {
   "cell_type": "code",
   "execution_count": 12,
   "metadata": {},
   "outputs": [],
   "source": [
    "students['gender'] = students.gender_age.str[0]\n",
    "students['age'] = students.gender_age.str[1:]\n",
    "students = students.drop(columns='gender_age')"
   ]
  },
  {
   "cell_type": "code",
   "execution_count": 13,
   "metadata": {},
   "outputs": [
    {
     "data": {
      "text/html": [
       "<div>\n",
       "<style scoped>\n",
       "    .dataframe tbody tr th:only-of-type {\n",
       "        vertical-align: middle;\n",
       "    }\n",
       "\n",
       "    .dataframe tbody tr th {\n",
       "        vertical-align: top;\n",
       "    }\n",
       "\n",
       "    .dataframe thead th {\n",
       "        text-align: right;\n",
       "    }\n",
       "</style>\n",
       "<table border=\"1\" class=\"dataframe\">\n",
       "  <thead>\n",
       "    <tr style=\"text-align: right;\">\n",
       "      <th></th>\n",
       "      <th>full_name</th>\n",
       "      <th>grade</th>\n",
       "      <th>exam</th>\n",
       "      <th>score</th>\n",
       "      <th>gender</th>\n",
       "      <th>age</th>\n",
       "    </tr>\n",
       "  </thead>\n",
       "  <tbody>\n",
       "    <tr>\n",
       "      <th>0</th>\n",
       "      <td>Moses Kirckman</td>\n",
       "      <td>11th grade</td>\n",
       "      <td>fractions</td>\n",
       "      <td>69%</td>\n",
       "      <td>M</td>\n",
       "      <td>14</td>\n",
       "    </tr>\n",
       "    <tr>\n",
       "      <th>1</th>\n",
       "      <td>Timofei Strowan</td>\n",
       "      <td>11th grade</td>\n",
       "      <td>fractions</td>\n",
       "      <td>63%</td>\n",
       "      <td>M</td>\n",
       "      <td>18</td>\n",
       "    </tr>\n",
       "    <tr>\n",
       "      <th>2</th>\n",
       "      <td>Silvain Poll</td>\n",
       "      <td>9th grade</td>\n",
       "      <td>fractions</td>\n",
       "      <td>69%</td>\n",
       "      <td>M</td>\n",
       "      <td>18</td>\n",
       "    </tr>\n",
       "    <tr>\n",
       "      <th>3</th>\n",
       "      <td>Lezley Pinxton</td>\n",
       "      <td>11th grade</td>\n",
       "      <td>fractions</td>\n",
       "      <td>NaN</td>\n",
       "      <td>M</td>\n",
       "      <td>18</td>\n",
       "    </tr>\n",
       "    <tr>\n",
       "      <th>4</th>\n",
       "      <td>Bernadene Saunper</td>\n",
       "      <td>11th grade</td>\n",
       "      <td>fractions</td>\n",
       "      <td>72%</td>\n",
       "      <td>F</td>\n",
       "      <td>17</td>\n",
       "    </tr>\n",
       "  </tbody>\n",
       "</table>\n",
       "</div>"
      ],
      "text/plain": [
       "           full_name       grade       exam score gender age\n",
       "0     Moses Kirckman  11th grade  fractions   69%      M  14\n",
       "1    Timofei Strowan  11th grade  fractions   63%      M  18\n",
       "2       Silvain Poll   9th grade  fractions   69%      M  18\n",
       "3     Lezley Pinxton  11th grade  fractions   NaN      M  18\n",
       "4  Bernadene Saunper  11th grade  fractions   72%      F  17"
      ]
     },
     "execution_count": 13,
     "metadata": {},
     "output_type": "execute_result"
    }
   ],
   "source": [
    "students.head()"
   ]
  },
  {
   "cell_type": "markdown",
   "metadata": {},
   "source": [
    "## Splitting by Character\n",
    "Now we want to split the `full_name` column into `first_name` and `last_name`:"
   ]
  },
  {
   "cell_type": "code",
   "execution_count": 14,
   "metadata": {},
   "outputs": [
    {
     "data": {
      "text/html": [
       "<div>\n",
       "<style scoped>\n",
       "    .dataframe tbody tr th:only-of-type {\n",
       "        vertical-align: middle;\n",
       "    }\n",
       "\n",
       "    .dataframe tbody tr th {\n",
       "        vertical-align: top;\n",
       "    }\n",
       "\n",
       "    .dataframe thead th {\n",
       "        text-align: right;\n",
       "    }\n",
       "</style>\n",
       "<table border=\"1\" class=\"dataframe\">\n",
       "  <thead>\n",
       "    <tr style=\"text-align: right;\">\n",
       "      <th></th>\n",
       "      <th>full_name</th>\n",
       "      <th>grade</th>\n",
       "      <th>exam</th>\n",
       "      <th>score</th>\n",
       "      <th>gender</th>\n",
       "      <th>age</th>\n",
       "      <th>first_name</th>\n",
       "      <th>last_name</th>\n",
       "    </tr>\n",
       "  </thead>\n",
       "  <tbody>\n",
       "    <tr>\n",
       "      <th>0</th>\n",
       "      <td>Moses Kirckman</td>\n",
       "      <td>11th grade</td>\n",
       "      <td>fractions</td>\n",
       "      <td>69%</td>\n",
       "      <td>M</td>\n",
       "      <td>14</td>\n",
       "      <td>Moses</td>\n",
       "      <td>Kirckman</td>\n",
       "    </tr>\n",
       "    <tr>\n",
       "      <th>1</th>\n",
       "      <td>Timofei Strowan</td>\n",
       "      <td>11th grade</td>\n",
       "      <td>fractions</td>\n",
       "      <td>63%</td>\n",
       "      <td>M</td>\n",
       "      <td>18</td>\n",
       "      <td>Timofei</td>\n",
       "      <td>Strowan</td>\n",
       "    </tr>\n",
       "    <tr>\n",
       "      <th>2</th>\n",
       "      <td>Silvain Poll</td>\n",
       "      <td>9th grade</td>\n",
       "      <td>fractions</td>\n",
       "      <td>69%</td>\n",
       "      <td>M</td>\n",
       "      <td>18</td>\n",
       "      <td>Silvain</td>\n",
       "      <td>Poll</td>\n",
       "    </tr>\n",
       "    <tr>\n",
       "      <th>3</th>\n",
       "      <td>Lezley Pinxton</td>\n",
       "      <td>11th grade</td>\n",
       "      <td>fractions</td>\n",
       "      <td>NaN</td>\n",
       "      <td>M</td>\n",
       "      <td>18</td>\n",
       "      <td>Lezley</td>\n",
       "      <td>Pinxton</td>\n",
       "    </tr>\n",
       "    <tr>\n",
       "      <th>4</th>\n",
       "      <td>Bernadene Saunper</td>\n",
       "      <td>11th grade</td>\n",
       "      <td>fractions</td>\n",
       "      <td>72%</td>\n",
       "      <td>F</td>\n",
       "      <td>17</td>\n",
       "      <td>Bernadene</td>\n",
       "      <td>Saunper</td>\n",
       "    </tr>\n",
       "  </tbody>\n",
       "</table>\n",
       "</div>"
      ],
      "text/plain": [
       "           full_name       grade       exam score gender age first_name  \\\n",
       "0     Moses Kirckman  11th grade  fractions   69%      M  14      Moses   \n",
       "1    Timofei Strowan  11th grade  fractions   63%      M  18    Timofei   \n",
       "2       Silvain Poll   9th grade  fractions   69%      M  18    Silvain   \n",
       "3     Lezley Pinxton  11th grade  fractions   NaN      M  18     Lezley   \n",
       "4  Bernadene Saunper  11th grade  fractions   72%      F  17  Bernadene   \n",
       "\n",
       "  last_name  \n",
       "0  Kirckman  \n",
       "1   Strowan  \n",
       "2      Poll  \n",
       "3   Pinxton  \n",
       "4   Saunper  "
      ]
     },
     "execution_count": 14,
     "metadata": {},
     "output_type": "execute_result"
    }
   ],
   "source": [
    "\"\"\" \n",
    "#Working alternative:\n",
    "students['first_name'] = students.full_name.apply(\n",
    "    lambda x: x.split(' ')[0]\n",
    "    )\n",
    "\n",
    "students['last_name'] = students.full_name.apply(\n",
    "    lambda x: x.split(' ')[1]\n",
    "    )\n",
    "\"\"\"\n",
    "name_split = students.full_name.str.split(\" \") #Splitting by whitespace (could be . - _ , )\n",
    "students[\"first_name\"] = name_split.str.get(0)\n",
    "students[\"last_name\"] = name_split.str.get(1)\n",
    "students.head()"
   ]
  },
  {
   "cell_type": "markdown",
   "metadata": {},
   "source": [
    "## Looking at types"
   ]
  },
  {
   "cell_type": "code",
   "execution_count": 15,
   "metadata": {},
   "outputs": [
    {
     "name": "stdout",
     "output_type": "stream",
     "text": [
      "full_name     object\n",
      "grade         object\n",
      "exam          object\n",
      "score         object\n",
      "gender        object\n",
      "age           object\n",
      "first_name    object\n",
      "last_name     object\n",
      "dtype: object\n"
     ]
    }
   ],
   "source": [
    "print(students.dtypes)"
   ]
  },
  {
   "cell_type": "code",
   "execution_count": 16,
   "metadata": {},
   "outputs": [],
   "source": [
    "#Currently, this creates an error:\n",
    "#print(students.score.mean())\n",
    "\n",
    "#because the score column is formed by strings. We'll get rid of the '%' symbol and change the datatype to float64."
   ]
  },
  {
   "cell_type": "markdown",
   "metadata": {},
   "source": [
    "## String Parsing"
   ]
  },
  {
   "cell_type": "code",
   "execution_count": 18,
   "metadata": {},
   "outputs": [
    {
     "data": {
      "text/html": [
       "<div>\n",
       "<style scoped>\n",
       "    .dataframe tbody tr th:only-of-type {\n",
       "        vertical-align: middle;\n",
       "    }\n",
       "\n",
       "    .dataframe tbody tr th {\n",
       "        vertical-align: top;\n",
       "    }\n",
       "\n",
       "    .dataframe thead th {\n",
       "        text-align: right;\n",
       "    }\n",
       "</style>\n",
       "<table border=\"1\" class=\"dataframe\">\n",
       "  <thead>\n",
       "    <tr style=\"text-align: right;\">\n",
       "      <th></th>\n",
       "      <th>full_name</th>\n",
       "      <th>grade</th>\n",
       "      <th>exam</th>\n",
       "      <th>score</th>\n",
       "      <th>gender</th>\n",
       "      <th>age</th>\n",
       "      <th>first_name</th>\n",
       "      <th>last_name</th>\n",
       "    </tr>\n",
       "  </thead>\n",
       "  <tbody>\n",
       "    <tr>\n",
       "      <th>0</th>\n",
       "      <td>Moses Kirckman</td>\n",
       "      <td>11th grade</td>\n",
       "      <td>fractions</td>\n",
       "      <td>69.0</td>\n",
       "      <td>M</td>\n",
       "      <td>14</td>\n",
       "      <td>Moses</td>\n",
       "      <td>Kirckman</td>\n",
       "    </tr>\n",
       "    <tr>\n",
       "      <th>1</th>\n",
       "      <td>Timofei Strowan</td>\n",
       "      <td>11th grade</td>\n",
       "      <td>fractions</td>\n",
       "      <td>63.0</td>\n",
       "      <td>M</td>\n",
       "      <td>18</td>\n",
       "      <td>Timofei</td>\n",
       "      <td>Strowan</td>\n",
       "    </tr>\n",
       "    <tr>\n",
       "      <th>2</th>\n",
       "      <td>Silvain Poll</td>\n",
       "      <td>9th grade</td>\n",
       "      <td>fractions</td>\n",
       "      <td>69.0</td>\n",
       "      <td>M</td>\n",
       "      <td>18</td>\n",
       "      <td>Silvain</td>\n",
       "      <td>Poll</td>\n",
       "    </tr>\n",
       "    <tr>\n",
       "      <th>3</th>\n",
       "      <td>Lezley Pinxton</td>\n",
       "      <td>11th grade</td>\n",
       "      <td>fractions</td>\n",
       "      <td>NaN</td>\n",
       "      <td>M</td>\n",
       "      <td>18</td>\n",
       "      <td>Lezley</td>\n",
       "      <td>Pinxton</td>\n",
       "    </tr>\n",
       "    <tr>\n",
       "      <th>4</th>\n",
       "      <td>Bernadene Saunper</td>\n",
       "      <td>11th grade</td>\n",
       "      <td>fractions</td>\n",
       "      <td>72.0</td>\n",
       "      <td>F</td>\n",
       "      <td>17</td>\n",
       "      <td>Bernadene</td>\n",
       "      <td>Saunper</td>\n",
       "    </tr>\n",
       "  </tbody>\n",
       "</table>\n",
       "</div>"
      ],
      "text/plain": [
       "           full_name       grade       exam  score gender age first_name  \\\n",
       "0     Moses Kirckman  11th grade  fractions   69.0      M  14      Moses   \n",
       "1    Timofei Strowan  11th grade  fractions   63.0      M  18    Timofei   \n",
       "2       Silvain Poll   9th grade  fractions   69.0      M  18    Silvain   \n",
       "3     Lezley Pinxton  11th grade  fractions    NaN      M  18     Lezley   \n",
       "4  Bernadene Saunper  11th grade  fractions   72.0      F  17  Bernadene   \n",
       "\n",
       "  last_name  \n",
       "0  Kirckman  \n",
       "1   Strowan  \n",
       "2      Poll  \n",
       "3   Pinxton  \n",
       "4   Saunper  "
      ]
     },
     "execution_count": 18,
     "metadata": {},
     "output_type": "execute_result"
    }
   ],
   "source": [
    "students.score = students['score'].replace('\\%', '', regex=True)\n",
    "students.score = pd.to_numeric(students.score)\n",
    "\n",
    "students.head() #Got rid of '%' symbol"
   ]
  },
  {
   "cell_type": "markdown",
   "metadata": {},
   "source": [
    "Now we want to split the numeric grade from the `grade` column."
   ]
  },
  {
   "cell_type": "code",
   "execution_count": 19,
   "metadata": {},
   "outputs": [
    {
     "data": {
      "text/html": [
       "<div>\n",
       "<style scoped>\n",
       "    .dataframe tbody tr th:only-of-type {\n",
       "        vertical-align: middle;\n",
       "    }\n",
       "\n",
       "    .dataframe tbody tr th {\n",
       "        vertical-align: top;\n",
       "    }\n",
       "\n",
       "    .dataframe thead th {\n",
       "        text-align: right;\n",
       "    }\n",
       "</style>\n",
       "<table border=\"1\" class=\"dataframe\">\n",
       "  <thead>\n",
       "    <tr style=\"text-align: right;\">\n",
       "      <th></th>\n",
       "      <th>0</th>\n",
       "      <th>1</th>\n",
       "      <th>2</th>\n",
       "    </tr>\n",
       "  </thead>\n",
       "  <tbody>\n",
       "    <tr>\n",
       "      <th>0</th>\n",
       "      <td></td>\n",
       "      <td>11</td>\n",
       "      <td>th grade</td>\n",
       "    </tr>\n",
       "    <tr>\n",
       "      <th>1</th>\n",
       "      <td></td>\n",
       "      <td>11</td>\n",
       "      <td>th grade</td>\n",
       "    </tr>\n",
       "    <tr>\n",
       "      <th>2</th>\n",
       "      <td></td>\n",
       "      <td>9</td>\n",
       "      <td>th grade</td>\n",
       "    </tr>\n",
       "    <tr>\n",
       "      <th>3</th>\n",
       "      <td></td>\n",
       "      <td>11</td>\n",
       "      <td>th grade</td>\n",
       "    </tr>\n",
       "    <tr>\n",
       "      <th>4</th>\n",
       "      <td></td>\n",
       "      <td>11</td>\n",
       "      <td>th grade</td>\n",
       "    </tr>\n",
       "  </tbody>\n",
       "</table>\n",
       "</div>"
      ],
      "text/plain": [
       "  0   1         2\n",
       "0    11  th grade\n",
       "1    11  th grade\n",
       "2     9  th grade\n",
       "3    11  th grade\n",
       "4    11  th grade"
      ]
     },
     "execution_count": 19,
     "metadata": {},
     "output_type": "execute_result"
    }
   ],
   "source": [
    "split_students = students['grade'].str.split('(\\d+)',expand=True)\n",
    "split_students.head()"
   ]
  },
  {
   "cell_type": "code",
   "execution_count": 20,
   "metadata": {},
   "outputs": [
    {
     "data": {
      "text/html": [
       "<div>\n",
       "<style scoped>\n",
       "    .dataframe tbody tr th:only-of-type {\n",
       "        vertical-align: middle;\n",
       "    }\n",
       "\n",
       "    .dataframe tbody tr th {\n",
       "        vertical-align: top;\n",
       "    }\n",
       "\n",
       "    .dataframe thead th {\n",
       "        text-align: right;\n",
       "    }\n",
       "</style>\n",
       "<table border=\"1\" class=\"dataframe\">\n",
       "  <thead>\n",
       "    <tr style=\"text-align: right;\">\n",
       "      <th></th>\n",
       "      <th>full_name</th>\n",
       "      <th>grade</th>\n",
       "      <th>exam</th>\n",
       "      <th>score</th>\n",
       "      <th>gender</th>\n",
       "      <th>age</th>\n",
       "      <th>first_name</th>\n",
       "      <th>last_name</th>\n",
       "    </tr>\n",
       "  </thead>\n",
       "  <tbody>\n",
       "    <tr>\n",
       "      <th>0</th>\n",
       "      <td>Moses Kirckman</td>\n",
       "      <td>11</td>\n",
       "      <td>fractions</td>\n",
       "      <td>69.0</td>\n",
       "      <td>M</td>\n",
       "      <td>14</td>\n",
       "      <td>Moses</td>\n",
       "      <td>Kirckman</td>\n",
       "    </tr>\n",
       "    <tr>\n",
       "      <th>1</th>\n",
       "      <td>Timofei Strowan</td>\n",
       "      <td>11</td>\n",
       "      <td>fractions</td>\n",
       "      <td>63.0</td>\n",
       "      <td>M</td>\n",
       "      <td>18</td>\n",
       "      <td>Timofei</td>\n",
       "      <td>Strowan</td>\n",
       "    </tr>\n",
       "    <tr>\n",
       "      <th>2</th>\n",
       "      <td>Silvain Poll</td>\n",
       "      <td>9</td>\n",
       "      <td>fractions</td>\n",
       "      <td>69.0</td>\n",
       "      <td>M</td>\n",
       "      <td>18</td>\n",
       "      <td>Silvain</td>\n",
       "      <td>Poll</td>\n",
       "    </tr>\n",
       "    <tr>\n",
       "      <th>3</th>\n",
       "      <td>Lezley Pinxton</td>\n",
       "      <td>11</td>\n",
       "      <td>fractions</td>\n",
       "      <td>NaN</td>\n",
       "      <td>M</td>\n",
       "      <td>18</td>\n",
       "      <td>Lezley</td>\n",
       "      <td>Pinxton</td>\n",
       "    </tr>\n",
       "    <tr>\n",
       "      <th>4</th>\n",
       "      <td>Bernadene Saunper</td>\n",
       "      <td>11</td>\n",
       "      <td>fractions</td>\n",
       "      <td>72.0</td>\n",
       "      <td>F</td>\n",
       "      <td>17</td>\n",
       "      <td>Bernadene</td>\n",
       "      <td>Saunper</td>\n",
       "    </tr>\n",
       "  </tbody>\n",
       "</table>\n",
       "</div>"
      ],
      "text/plain": [
       "           full_name  grade       exam  score gender  age first_name last_name\n",
       "0     Moses Kirckman     11  fractions   69.0      M   14      Moses  Kirckman\n",
       "1    Timofei Strowan     11  fractions   63.0      M   18    Timofei   Strowan\n",
       "2       Silvain Poll      9  fractions   69.0      M   18    Silvain      Poll\n",
       "3     Lezley Pinxton     11  fractions    NaN      M   18     Lezley   Pinxton\n",
       "4  Bernadene Saunper     11  fractions   72.0      F   17  Bernadene   Saunper"
      ]
     },
     "execution_count": 20,
     "metadata": {},
     "output_type": "execute_result"
    }
   ],
   "source": [
    "students.grade = split_students[1]\n",
    "students.grade = pd.to_numeric(students.grade)\n",
    "\n",
    "students.age = pd.to_numeric(students.age) #Let's also change the age to int64 while we're at it\n",
    "students.head()"
   ]
  },
  {
   "cell_type": "code",
   "execution_count": 21,
   "metadata": {},
   "outputs": [
    {
     "name": "stdout",
     "output_type": "stream",
     "text": [
      "full_name      object\n",
      "grade           int64\n",
      "exam           object\n",
      "score         float64\n",
      "gender         object\n",
      "age             int64\n",
      "first_name     object\n",
      "last_name      object\n",
      "dtype: object\n"
     ]
    }
   ],
   "source": [
    "print(students.dtypes) #Reflects the 3 changes we made to score, grade and age columns"
   ]
  },
  {
   "cell_type": "code",
   "execution_count": 22,
   "metadata": {},
   "outputs": [
    {
     "name": "stdout",
     "output_type": "stream",
     "text": [
      "Students average score 77.69657422512235\n",
      "Median grade 11.0\n",
      "Students average score  16.021255060728745\n"
     ]
    }
   ],
   "source": [
    "#We can now calculate metrics like the mean/median/mode etc, on these columns:\n",
    "print(\"Students average score\", students.score.mean())\n",
    "print(\"Median grade\", students.grade.median())\n",
    "print(\"Students average score \", students.age.mean())"
   ]
  },
  {
   "cell_type": "markdown",
   "metadata": {},
   "source": [
    "## Missing Values"
   ]
  },
  {
   "cell_type": "markdown",
   "metadata": {},
   "source": [
    "Syntax:\n",
    "```python\n",
    "bill_df = bill_df.fillna(value={\"bill\":bill_df.bill.mean(), \"num_guests\":bill_df.num_guests.mean()})\n",
    "``` \n",
    "where `bill` and `num_guests` are the columns with missing values.\n",
    "<br/><br/><br/><br/>\n",
    "We will assume that everyone who doesn’t have a score for an exam missed the test. We want to replace all `nans` with a score of `0`. Let’s do this with the `score` column."
   ]
  },
  {
   "cell_type": "code",
   "execution_count": 23,
   "metadata": {},
   "outputs": [
    {
     "data": {
      "text/html": [
       "<div>\n",
       "<style scoped>\n",
       "    .dataframe tbody tr th:only-of-type {\n",
       "        vertical-align: middle;\n",
       "    }\n",
       "\n",
       "    .dataframe tbody tr th {\n",
       "        vertical-align: top;\n",
       "    }\n",
       "\n",
       "    .dataframe thead th {\n",
       "        text-align: right;\n",
       "    }\n",
       "</style>\n",
       "<table border=\"1\" class=\"dataframe\">\n",
       "  <thead>\n",
       "    <tr style=\"text-align: right;\">\n",
       "      <th></th>\n",
       "      <th>full_name</th>\n",
       "      <th>grade</th>\n",
       "      <th>exam</th>\n",
       "      <th>score</th>\n",
       "      <th>gender</th>\n",
       "      <th>age</th>\n",
       "      <th>first_name</th>\n",
       "      <th>last_name</th>\n",
       "    </tr>\n",
       "  </thead>\n",
       "  <tbody>\n",
       "    <tr>\n",
       "      <th>0</th>\n",
       "      <td>Moses Kirckman</td>\n",
       "      <td>11</td>\n",
       "      <td>fractions</td>\n",
       "      <td>69.0</td>\n",
       "      <td>M</td>\n",
       "      <td>14</td>\n",
       "      <td>Moses</td>\n",
       "      <td>Kirckman</td>\n",
       "    </tr>\n",
       "    <tr>\n",
       "      <th>1</th>\n",
       "      <td>Timofei Strowan</td>\n",
       "      <td>11</td>\n",
       "      <td>fractions</td>\n",
       "      <td>63.0</td>\n",
       "      <td>M</td>\n",
       "      <td>18</td>\n",
       "      <td>Timofei</td>\n",
       "      <td>Strowan</td>\n",
       "    </tr>\n",
       "    <tr>\n",
       "      <th>2</th>\n",
       "      <td>Silvain Poll</td>\n",
       "      <td>9</td>\n",
       "      <td>fractions</td>\n",
       "      <td>69.0</td>\n",
       "      <td>M</td>\n",
       "      <td>18</td>\n",
       "      <td>Silvain</td>\n",
       "      <td>Poll</td>\n",
       "    </tr>\n",
       "    <tr>\n",
       "      <th>3</th>\n",
       "      <td>Lezley Pinxton</td>\n",
       "      <td>11</td>\n",
       "      <td>fractions</td>\n",
       "      <td>0.0</td>\n",
       "      <td>M</td>\n",
       "      <td>18</td>\n",
       "      <td>Lezley</td>\n",
       "      <td>Pinxton</td>\n",
       "    </tr>\n",
       "    <tr>\n",
       "      <th>4</th>\n",
       "      <td>Bernadene Saunper</td>\n",
       "      <td>11</td>\n",
       "      <td>fractions</td>\n",
       "      <td>72.0</td>\n",
       "      <td>F</td>\n",
       "      <td>17</td>\n",
       "      <td>Bernadene</td>\n",
       "      <td>Saunper</td>\n",
       "    </tr>\n",
       "  </tbody>\n",
       "</table>\n",
       "</div>"
      ],
      "text/plain": [
       "           full_name  grade       exam  score gender  age first_name last_name\n",
       "0     Moses Kirckman     11  fractions   69.0      M   14      Moses  Kirckman\n",
       "1    Timofei Strowan     11  fractions   63.0      M   18    Timofei   Strowan\n",
       "2       Silvain Poll      9  fractions   69.0      M   18    Silvain      Poll\n",
       "3     Lezley Pinxton     11  fractions    0.0      M   18     Lezley   Pinxton\n",
       "4  Bernadene Saunper     11  fractions   72.0      F   17  Bernadene   Saunper"
      ]
     },
     "execution_count": 23,
     "metadata": {},
     "output_type": "execute_result"
    }
   ],
   "source": [
    "students = students.fillna(value={\"score\":0})\n",
    "students.head()"
   ]
  },
  {
   "cell_type": "code",
   "execution_count": 24,
   "metadata": {},
   "outputs": [
    {
     "name": "stdout",
     "output_type": "stream",
     "text": [
      "New Students average score 72.30971659919028\n"
     ]
    }
   ],
   "source": [
    "#Comparing new average after filling in the missing scores:\n",
    "print(\"New Students average score\", students.score.mean())"
   ]
  },
  {
   "cell_type": "code",
   "execution_count": null,
   "metadata": {},
   "outputs": [],
   "source": []
  }
 ],
 "metadata": {
  "kernelspec": {
   "display_name": "Python 3",
   "language": "python",
   "name": "python3"
  },
  "language_info": {
   "codemirror_mode": {
    "name": "ipython",
    "version": 3
   },
   "file_extension": ".py",
   "mimetype": "text/x-python",
   "name": "python",
   "nbconvert_exporter": "python",
   "pygments_lexer": "ipython3",
   "version": "3.7.6"
  }
 },
 "nbformat": 4,
 "nbformat_minor": 4
}
